{
 "metadata": {
  "name": "",
  "signature": "sha256:89955cc9d346d0d4c25430dc92873d7aa1813f84e00f82e8a842ba8e80202d0f"
 },
 "nbformat": 3,
 "nbformat_minor": 0,
 "worksheets": [
  {
   "cells": [
    {
     "cell_type": "markdown",
     "metadata": {},
     "source": [
      "# Hate Crimes Target Visualization Code"
     ]
    },
    {
     "cell_type": "code",
     "collapsed": false,
     "input": [
      "import pandas as pd\n",
      "import re\n",
      "from ggplot import *\n",
      "%matplotlib inline\n",
      "import numpy as np\n",
      "import string"
     ],
     "language": "python",
     "metadata": {},
     "outputs": [],
     "prompt_number": 1
    },
    {
     "cell_type": "code",
     "collapsed": false,
     "input": [
      "df = pd.read_csv('https://www.dropbox.com/s/sn7hvklu7kyijm0/hatecrimes.csv?dl=1')"
     ],
     "language": "python",
     "metadata": {},
     "outputs": [],
     "prompt_number": 6
    },
    {
     "cell_type": "code",
     "collapsed": false,
     "input": [
      "df.columns"
     ],
     "language": "python",
     "metadata": {},
     "outputs": [
      {
       "metadata": {},
       "output_type": "pyout",
       "prompt_number": 7,
       "text": [
        "Index(['Bias motivation', 'Incidents', 'Offenses', 'Victims1', '  Known offenders2'], dtype='object')"
       ]
      }
     ],
     "prompt_number": 7
    },
    {
     "cell_type": "code",
     "collapsed": false,
     "input": [
      "df.head()"
     ],
     "language": "python",
     "metadata": {},
     "outputs": [
      {
       "html": [
        "<div style=\"max-height:1000px;max-width:1500px;overflow:auto;\">\n",
        "<table border=\"1\" class=\"dataframe\">\n",
        "  <thead>\n",
        "    <tr style=\"text-align: right;\">\n",
        "      <th></th>\n",
        "      <th>Bias motivation</th>\n",
        "      <th>Incidents</th>\n",
        "      <th>Offenses</th>\n",
        "      <th>Victims1</th>\n",
        "      <th>  Known offenders2</th>\n",
        "    </tr>\n",
        "  </thead>\n",
        "  <tbody>\n",
        "    <tr>\n",
        "      <th>0</th>\n",
        "      <td>                          Anti-White</td>\n",
        "      <td>   545</td>\n",
        "      <td>   652</td>\n",
        "      <td>   668</td>\n",
        "      <td>   753</td>\n",
        "    </tr>\n",
        "    <tr>\n",
        "      <th>1</th>\n",
        "      <td>                          Anti-Black</td>\n",
        "      <td> 2,284</td>\n",
        "      <td> 2,724</td>\n",
        "      <td> 2,902</td>\n",
        "      <td> 2,160</td>\n",
        "    </tr>\n",
        "    <tr>\n",
        "      <th>2</th>\n",
        "      <td> Anti-American Indian/Alaskan Native</td>\n",
        "      <td>    65</td>\n",
        "      <td>    84</td>\n",
        "      <td>    87</td>\n",
        "      <td>    88</td>\n",
        "    </tr>\n",
        "    <tr>\n",
        "      <th>3</th>\n",
        "      <td>         Anti-Asian/Pacific Islander</td>\n",
        "      <td>   126</td>\n",
        "      <td>   147</td>\n",
        "      <td>   149</td>\n",
        "      <td>   108</td>\n",
        "    </tr>\n",
        "    <tr>\n",
        "      <th>4</th>\n",
        "      <td>          Anti-Multiple Races, Group</td>\n",
        "      <td>   179</td>\n",
        "      <td>   209</td>\n",
        "      <td>   251</td>\n",
        "      <td>   132</td>\n",
        "    </tr>\n",
        "  </tbody>\n",
        "</table>\n",
        "</div>"
       ],
       "metadata": {},
       "output_type": "pyout",
       "prompt_number": 10,
       "text": [
        "                       Bias motivation Incidents Offenses Victims1  \\\n",
        "0                           Anti-White       545      652      668   \n",
        "1                           Anti-Black     2,284    2,724    2,902   \n",
        "2  Anti-American Indian/Alaskan Native        65       84       87   \n",
        "3          Anti-Asian/Pacific Islander       126      147      149   \n",
        "4           Anti-Multiple Races, Group       179      209      251   \n",
        "\n",
        "    Known offenders2  \n",
        "0                753  \n",
        "1              2,160  \n",
        "2                 88  \n",
        "3                108  \n",
        "4                132  "
       ]
      }
     ],
     "prompt_number": 10
    },
    {
     "cell_type": "code",
     "collapsed": false,
     "input": [
      "replacer = lambda x: re.sub('[$,None]', '', x)\n",
      "df['Incidents'] = df['Incidents'].map(replacer)\n",
      "df['Incidents'] = df['Incidents'].astype(float)"
     ],
     "language": "python",
     "metadata": {},
     "outputs": [],
     "prompt_number": 22
    },
    {
     "cell_type": "code",
     "collapsed": false,
     "input": [
      "df.index = df['Bias motivation']"
     ],
     "language": "python",
     "metadata": {},
     "outputs": [],
     "prompt_number": 29
    },
    {
     "cell_type": "code",
     "collapsed": false,
     "input": [
      "df = df.sort('Incidents', ascending=False)"
     ],
     "language": "python",
     "metadata": {},
     "outputs": [],
     "prompt_number": 33
    },
    {
     "cell_type": "code",
     "collapsed": false,
     "input": [
      "df.plot(kind='bar')"
     ],
     "language": "python",
     "metadata": {},
     "outputs": [
      {
       "metadata": {},
       "output_type": "pyout",
       "prompt_number": 34,
       "text": [
        "<matplotlib.axes._subplots.AxesSubplot at 0x10eaac950>"
       ]
      },
      {
       "metadata": {},
       "output_type": "display_data",
       "png": "[encoded data removed]",
       "text": [
        "<matplotlib.figure.Figure at 0x10ea7c110>"
       ]
      }
     ],
     "prompt_number": 34
    }
   ],
   "metadata": {}
  }
 ]
}