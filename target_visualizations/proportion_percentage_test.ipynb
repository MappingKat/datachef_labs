{
 "metadata": {
  "name": "",
  "signature": "sha256:eaf216161d2bb2d2f0094886fd89483de81a60a006911ee1f88875857eee500c"
 },
 "nbformat": 3,
 "nbformat_minor": 0,
 "worksheets": [
  {
   "cells": [
    {
     "cell_type": "markdown",
     "metadata": {},
     "source": [
      "# Test of proportion_percentage()"
     ]
    },
    {
     "cell_type": "code",
     "collapsed": false,
     "input": [
      "def is_a_float(value, key=None):\n",
      "    if \".\" in str(value):\n",
      "        try:\n",
      "            v = float(value)\n",
      "            return True\n",
      "        except:\n",
      "            return False\n",
      "\n",
      "    return False\n",
      "\n",
      "\n",
      "def is_a_int(value, key=None):\n",
      "    if is_a_float(value):\n",
      "        return False\n",
      "\n",
      "    try:\n",
      "        int(value)\n",
      "        return True\n",
      "    except:\n",
      "        return False"
     ],
     "language": "python",
     "metadata": {},
     "outputs": [],
     "prompt_number": 1
    },
    {
     "cell_type": "code",
     "collapsed": false,
     "input": [
      "def column_probability_for_type(values, for_type, pos=None, key=None):\n",
      "    if for_type == 'category':\n",
      "        return category_probability(values)\n",
      "    elif for_type == 'id':\n",
      "        return id_probability(values)\n",
      "\n",
      "    type_checkers = {\n",
      "        'int': is_a_int,\n",
      "        'float': is_a_float,\n",
      "    }\n",
      "\n",
      "    is_type = 0\n",
      "    for value in values:\n",
      "        if type_checkers[for_type](value):\n",
      "            is_type += 1\n",
      "\n",
      "\n",
      "    non_empty = [v for v in values if v != '']\n",
      "    divisor = len(non_empty) if len(non_empty) > 0 else 1\n",
      "\n",
      "    return float(is_type) / divisor"
     ],
     "language": "python",
     "metadata": {},
     "outputs": [],
     "prompt_number": 2
    },
    {
     "cell_type": "markdown",
     "metadata": {},
     "source": [
      "## Set the test data"
     ]
    },
    {
     "cell_type": "code",
     "collapsed": false,
     "input": [
      "percent = [10, 15, 25, 50]\n",
      "proportion = [.10, .15, .25, .50]\n",
      "not_percent = [25, 32, 2245, 235]\n",
      "not_float_int = [.5, .5, 'dsfsdf', 'dfs']"
     ],
     "language": "python",
     "metadata": {},
     "outputs": [],
     "prompt_number": 3
    },
    {
     "cell_type": "code",
     "collapsed": false,
     "input": [
      "column_probability_for_type(not_float, 'int') == 1 or column_probability_for_type(percent, 'float') == 1"
     ],
     "language": "python",
     "metadata": {},
     "outputs": [
      {
       "metadata": {},
       "output_type": "pyout",
       "prompt_number": 7,
       "text": [
        "False"
       ]
      }
     ],
     "prompt_number": 7
    },
    {
     "cell_type": "markdown",
     "metadata": {},
     "source": [
      "## Create the function"
     ]
    },
    {
     "cell_type": "code",
     "collapsed": false,
     "input": [
      "def proportion_probability(values, key=None, pos=None):\n",
      "    prob = 0\n",
      "    \n",
      "    if column_probability_for_type(values, 'int') > .4 or column_probability_for_type(values, 'float') > .4:\n",
      "        if sum(values) == 1 or sum(values) == 100:\n",
      "            prob += 1\n",
      "        else:\n",
      "            return 0\n",
      "\n",
      "        return prob\n",
      "    else:\n",
      "        return 0"
     ],
     "language": "python",
     "metadata": {},
     "outputs": [],
     "prompt_number": 14
    },
    {
     "cell_type": "markdown",
     "metadata": {},
     "source": [
      "## See the results"
     ]
    },
    {
     "cell_type": "code",
     "collapsed": false,
     "input": [
      "# Should return 0.5\n",
      "print(proportion_probability(percent, 'percent'))\n",
      "\n",
      "# Should return 0.5\n",
      "print(proportion_probability(proportion, 'proportion'))\n",
      "\n",
      "# Should return 0\n",
      "print(proportion_probability(not_percent, 'not_percent'))\n",
      "\n",
      "# Should return 0\n",
      "print(proportion_probability(not_float_int, 'not float or int'))"
     ],
     "language": "python",
     "metadata": {},
     "outputs": [
      {
       "output_type": "stream",
       "stream": "stdout",
       "text": [
        "1\n",
        "1\n",
        "0\n"
       ]
      },
      {
       "ename": "TypeError",
       "evalue": "unsupported operand type(s) for +: 'float' and 'str'",
       "output_type": "pyerr",
       "traceback": [
        "\u001b[0;31m---------------------------------------------------------------------------\u001b[0m\n\u001b[0;31mTypeError\u001b[0m                                 Traceback (most recent call last)",
        "\u001b[0;32m<ipython-input-15-6adb792476d1>\u001b[0m in \u001b[0;36m<module>\u001b[0;34m()\u001b[0m\n\u001b[1;32m      9\u001b[0m \u001b[0;34m\u001b[0m\u001b[0m\n\u001b[1;32m     10\u001b[0m \u001b[0;31m# Should return 0\u001b[0m\u001b[0;34m\u001b[0m\u001b[0;34m\u001b[0m\u001b[0m\n\u001b[0;32m---> 11\u001b[0;31m \u001b[0mprint\u001b[0m\u001b[0;34m(\u001b[0m\u001b[0mproportion_probability\u001b[0m\u001b[0;34m(\u001b[0m\u001b[0mnot_float_int\u001b[0m\u001b[0;34m,\u001b[0m \u001b[0;34m'not float or int'\u001b[0m\u001b[0;34m)\u001b[0m\u001b[0;34m)\u001b[0m\u001b[0;34m\u001b[0m\u001b[0m\n\u001b[0m",
        "\u001b[0;32m<ipython-input-14-dcd6685353c1>\u001b[0m in \u001b[0;36mproportion_probability\u001b[0;34m(values, key, pos)\u001b[0m\n\u001b[1;32m      3\u001b[0m \u001b[0;34m\u001b[0m\u001b[0m\n\u001b[1;32m      4\u001b[0m     \u001b[0;32mif\u001b[0m \u001b[0mcolumn_probability_for_type\u001b[0m\u001b[0;34m(\u001b[0m\u001b[0mvalues\u001b[0m\u001b[0;34m,\u001b[0m \u001b[0;34m'int'\u001b[0m\u001b[0;34m)\u001b[0m \u001b[0;34m>\u001b[0m \u001b[0;36m.4\u001b[0m \u001b[0;32mor\u001b[0m \u001b[0mcolumn_probability_for_type\u001b[0m\u001b[0;34m(\u001b[0m\u001b[0mvalues\u001b[0m\u001b[0;34m,\u001b[0m \u001b[0;34m'float'\u001b[0m\u001b[0;34m)\u001b[0m \u001b[0;34m>\u001b[0m \u001b[0;36m.4\u001b[0m\u001b[0;34m:\u001b[0m\u001b[0;34m\u001b[0m\u001b[0m\n\u001b[0;32m----> 5\u001b[0;31m         \u001b[0;32mif\u001b[0m \u001b[0msum\u001b[0m\u001b[0;34m(\u001b[0m\u001b[0mvalues\u001b[0m\u001b[0;34m)\u001b[0m \u001b[0;34m==\u001b[0m \u001b[0;36m1\u001b[0m \u001b[0;32mor\u001b[0m \u001b[0msum\u001b[0m\u001b[0;34m(\u001b[0m\u001b[0mvalues\u001b[0m\u001b[0;34m)\u001b[0m \u001b[0;34m==\u001b[0m \u001b[0;36m100\u001b[0m\u001b[0;34m:\u001b[0m\u001b[0;34m\u001b[0m\u001b[0m\n\u001b[0m\u001b[1;32m      6\u001b[0m             \u001b[0mprob\u001b[0m \u001b[0;34m+=\u001b[0m \u001b[0;36m1\u001b[0m\u001b[0;34m\u001b[0m\u001b[0m\n\u001b[1;32m      7\u001b[0m         \u001b[0;32melse\u001b[0m\u001b[0;34m:\u001b[0m\u001b[0;34m\u001b[0m\u001b[0m\n",
        "\u001b[0;31mTypeError\u001b[0m: unsupported operand type(s) for +: 'float' and 'str'"
       ]
      }
     ],
     "prompt_number": 15
    },
    {
     "cell_type": "code",
     "collapsed": false,
     "input": [],
     "language": "python",
     "metadata": {},
     "outputs": []
    }
   ],
   "metadata": {}
  }
 ]
}