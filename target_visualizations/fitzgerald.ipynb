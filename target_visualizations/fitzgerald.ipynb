{
 "metadata": {
  "name": "",
  "signature": "sha256:5da3add26853f057d547d77fafa279bb33e926f010163c5c8c03162142c7ae1f"
 },
 "nbformat": 3,
 "nbformat_minor": 0,
 "worksheets": [
  {
   "cells": [
    {
     "cell_type": "markdown",
     "metadata": {},
     "source": [
      "# Fitzgerald's Earnings Target Visualization Code"
     ]
    },
    {
     "cell_type": "code",
     "collapsed": false,
     "input": [
      "import pandas as pd\n",
      "import re\n",
      "from ggplot import *\n",
      "%matplotlib inline\n",
      "import numpy as np\n",
      "import string"
     ],
     "language": "python",
     "metadata": {},
     "outputs": [],
     "prompt_number": 13
    },
    {
     "cell_type": "code",
     "collapsed": false,
     "input": [
      "df = pd.read_csv('https://www.dropbox.com/s/u2suu8bee0uaekv/fitz.csv?dl=1')"
     ],
     "language": "python",
     "metadata": {},
     "outputs": [],
     "prompt_number": 14
    },
    {
     "cell_type": "code",
     "collapsed": false,
     "input": [
      "df.columns"
     ],
     "language": "python",
     "metadata": {},
     "outputs": [
      {
       "metadata": {},
       "output_type": "pyout",
       "prompt_number": 15,
       "text": [
        "Index(['Year', 'Type', 'Title', 'Income', '2012 Dollars', 'Advance'], dtype='object')"
       ]
      }
     ],
     "prompt_number": 15
    },
    {
     "cell_type": "code",
     "collapsed": false,
     "input": [
      "df.head()"
     ],
     "language": "python",
     "metadata": {},
     "outputs": [
      {
       "html": [
        "<div style=\"max-height:1000px;max-width:1500px;overflow:auto;\">\n",
        "<table border=\"1\" class=\"dataframe\">\n",
        "  <thead>\n",
        "    <tr style=\"text-align: right;\">\n",
        "      <th></th>\n",
        "      <th>Year</th>\n",
        "      <th>Type</th>\n",
        "      <th>Title</th>\n",
        "      <th>Income</th>\n",
        "      <th>2012 Dollars</th>\n",
        "      <th>Advance</th>\n",
        "    </tr>\n",
        "  </thead>\n",
        "  <tbody>\n",
        "    <tr>\n",
        "      <th>0</th>\n",
        "      <td> 1923</td>\n",
        "      <td>               Stories</td>\n",
        "      <td>                     \ufffdDiamond Dick\ufffd</td>\n",
        "      <td> 1350</td>\n",
        "      <td> 17955.0</td>\n",
        "      <td> NaN</td>\n",
        "    </tr>\n",
        "    <tr>\n",
        "      <th>1</th>\n",
        "      <td> 1923</td>\n",
        "      <td>               Stories</td>\n",
        "      <td>    \ufffdDice Brassknuckles and Guitar\ufffd</td>\n",
        "      <td> 1350</td>\n",
        "      <td> 17955.0</td>\n",
        "      <td> NaN</td>\n",
        "    </tr>\n",
        "    <tr>\n",
        "      <th>2</th>\n",
        "      <td> 1922</td>\n",
        "      <td> Other / Miscellaneous</td>\n",
        "      <td>             \ufffdLove Legend\ufffd (review)</td>\n",
        "      <td>    5</td>\n",
        "      <td>    67.7</td>\n",
        "      <td> NaN</td>\n",
        "    </tr>\n",
        "    <tr>\n",
        "      <th>3</th>\n",
        "      <td> 1922</td>\n",
        "      <td> Other / Miscellaneous</td>\n",
        "      <td>    \ufffdMargie Wins the Game\ufffd (review)</td>\n",
        "      <td>    5</td>\n",
        "      <td>    67.7</td>\n",
        "      <td> NaN</td>\n",
        "    </tr>\n",
        "    <tr>\n",
        "      <th>4</th>\n",
        "      <td> 1923</td>\n",
        "      <td>               Stories</td>\n",
        "      <td> \ufffdOur Own Movie Queen\ufffd (half Zelda)</td>\n",
        "      <td>  900</td>\n",
        "      <td> 11970.0</td>\n",
        "      <td> NaN</td>\n",
        "    </tr>\n",
        "  </tbody>\n",
        "</table>\n",
        "</div>"
       ],
       "metadata": {},
       "output_type": "pyout",
       "prompt_number": 16,
       "text": [
        "   Year                   Type                               Title  Income  \\\n",
        "0  1923                Stories                      \ufffdDiamond Dick\ufffd    1350   \n",
        "1  1923                Stories     \ufffdDice Brassknuckles and Guitar\ufffd    1350   \n",
        "2  1922  Other / Miscellaneous              \ufffdLove Legend\ufffd (review)       5   \n",
        "3  1922  Other / Miscellaneous     \ufffdMargie Wins the Game\ufffd (review)       5   \n",
        "4  1923                Stories  \ufffdOur Own Movie Queen\ufffd (half Zelda)     900   \n",
        "\n",
        "   2012 Dollars Advance  \n",
        "0       17955.0     NaN  \n",
        "1       17955.0     NaN  \n",
        "2          67.7     NaN  \n",
        "3          67.7     NaN  \n",
        "4       11970.0     NaN  "
       ]
      }
     ],
     "prompt_number": 16
    },
    {
     "cell_type": "code",
     "collapsed": false,
     "input": [
      "df = df.groupby('Year').sum()"
     ],
     "language": "python",
     "metadata": {},
     "outputs": [],
     "prompt_number": 23
    },
    {
     "cell_type": "code",
     "collapsed": false,
     "input": [
      "# Annual Revenue Of F. Scott Fitzgerald in 2012 Dollars\n",
      "df['2012 Dollars'].plot(kind='bar')"
     ],
     "language": "python",
     "metadata": {},
     "outputs": [
      {
       "metadata": {},
       "output_type": "pyout",
       "prompt_number": 27,
       "text": [
        "<matplotlib.axes._subplots.AxesSubplot at 0x11181f150>"
       ]
      },
      {
       "metadata": {},
       "output_type": "display_data",
       "png": "[encoded data removed]",
       "text": [
        "<matplotlib.figure.Figure at 0x1113c0310>"
       ]
      }
     ],
     "prompt_number": 27
    },
    {
     "cell_type": "code",
     "collapsed": false,
     "input": [],
     "language": "python",
     "metadata": {},
     "outputs": []
    }
   ],
   "metadata": {}
  }
 ]
}