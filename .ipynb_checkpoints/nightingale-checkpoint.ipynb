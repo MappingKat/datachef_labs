{
 "metadata": {
  "name": "",
  "signature": "sha256:4134a54755b8216ef506e3a94f4ecded6beb3339894292b08f4d5c49573489c5"
 },
 "nbformat": 3,
 "nbformat_minor": 0,
 "worksheets": [
  {
   "cells": [
    {
     "cell_type": "markdown",
     "metadata": {},
     "source": [
      "# Nightingale Target Visualization Code"
     ]
    },
    {
     "cell_type": "code",
     "collapsed": false,
     "input": [
      "import pandas as pd\n",
      "import re\n",
      "from ggplot import *\n",
      "%matplotlib inline\n",
      "import numpy as np\n",
      "import string"
     ],
     "language": "python",
     "metadata": {},
     "outputs": [],
     "prompt_number": 2
    },
    {
     "cell_type": "code",
     "collapsed": false,
     "input": [
      "df = pd.read_csv('http://vincentarelbundock.github.io/Rdatasets/csv/HistData/Nightingale.csv')"
     ],
     "language": "python",
     "metadata": {},
     "outputs": [],
     "prompt_number": 8
    },
    {
     "cell_type": "code",
     "collapsed": false,
     "input": [
      "df.columns"
     ],
     "language": "python",
     "metadata": {},
     "outputs": [
      {
       "metadata": {},
       "output_type": "pyout",
       "prompt_number": 9,
       "text": [
        "Index(['Unnamed: 0', 'Date', 'Month', 'Year', 'Army', 'Disease', 'Wounds', 'Other', 'Disease.rate', 'Wounds.rate', 'Other.rate'], dtype='object')"
       ]
      }
     ],
     "prompt_number": 9
    },
    {
     "cell_type": "code",
     "collapsed": false,
     "input": [
      "df.head()"
     ],
     "language": "python",
     "metadata": {},
     "outputs": [
      {
       "html": [
        "<div style=\"max-height:1000px;max-width:1500px;overflow:auto;\">\n",
        "<table border=\"1\" class=\"dataframe\">\n",
        "  <thead>\n",
        "    <tr style=\"text-align: right;\">\n",
        "      <th></th>\n",
        "      <th>Unnamed: 0</th>\n",
        "      <th>Date</th>\n",
        "      <th>Month</th>\n",
        "      <th>Year</th>\n",
        "      <th>Army</th>\n",
        "      <th>Disease</th>\n",
        "      <th>Wounds</th>\n",
        "      <th>Other</th>\n",
        "      <th>Disease.rate</th>\n",
        "      <th>Wounds.rate</th>\n",
        "      <th>Other.rate</th>\n",
        "    </tr>\n",
        "  </thead>\n",
        "  <tbody>\n",
        "    <tr>\n",
        "      <th>0</th>\n",
        "      <td> 1</td>\n",
        "      <td> 1854-04-01</td>\n",
        "      <td> Apr</td>\n",
        "      <td> 1854</td>\n",
        "      <td>  8571</td>\n",
        "      <td>   1</td>\n",
        "      <td> 0</td>\n",
        "      <td>  5</td>\n",
        "      <td>   1.4</td>\n",
        "      <td> 0.0</td>\n",
        "      <td>  7.0</td>\n",
        "    </tr>\n",
        "    <tr>\n",
        "      <th>1</th>\n",
        "      <td> 2</td>\n",
        "      <td> 1854-05-01</td>\n",
        "      <td> May</td>\n",
        "      <td> 1854</td>\n",
        "      <td> 23333</td>\n",
        "      <td>  12</td>\n",
        "      <td> 0</td>\n",
        "      <td>  9</td>\n",
        "      <td>   6.2</td>\n",
        "      <td> 0.0</td>\n",
        "      <td>  4.6</td>\n",
        "    </tr>\n",
        "    <tr>\n",
        "      <th>2</th>\n",
        "      <td> 3</td>\n",
        "      <td> 1854-06-01</td>\n",
        "      <td> Jun</td>\n",
        "      <td> 1854</td>\n",
        "      <td> 28333</td>\n",
        "      <td>  11</td>\n",
        "      <td> 0</td>\n",
        "      <td>  6</td>\n",
        "      <td>   4.7</td>\n",
        "      <td> 0.0</td>\n",
        "      <td>  2.5</td>\n",
        "    </tr>\n",
        "    <tr>\n",
        "      <th>3</th>\n",
        "      <td> 4</td>\n",
        "      <td> 1854-07-01</td>\n",
        "      <td> Jul</td>\n",
        "      <td> 1854</td>\n",
        "      <td> 28722</td>\n",
        "      <td> 359</td>\n",
        "      <td> 0</td>\n",
        "      <td> 23</td>\n",
        "      <td> 150.0</td>\n",
        "      <td> 0.0</td>\n",
        "      <td>  9.6</td>\n",
        "    </tr>\n",
        "    <tr>\n",
        "      <th>4</th>\n",
        "      <td> 5</td>\n",
        "      <td> 1854-08-01</td>\n",
        "      <td> Aug</td>\n",
        "      <td> 1854</td>\n",
        "      <td> 30246</td>\n",
        "      <td> 828</td>\n",
        "      <td> 1</td>\n",
        "      <td> 30</td>\n",
        "      <td> 328.5</td>\n",
        "      <td> 0.4</td>\n",
        "      <td> 11.9</td>\n",
        "    </tr>\n",
        "  </tbody>\n",
        "</table>\n",
        "</div>"
       ],
       "metadata": {},
       "output_type": "pyout",
       "prompt_number": 10,
       "text": [
        "   Unnamed: 0        Date Month  Year   Army  Disease  Wounds  Other  \\\n",
        "0           1  1854-04-01   Apr  1854   8571        1       0      5   \n",
        "1           2  1854-05-01   May  1854  23333       12       0      9   \n",
        "2           3  1854-06-01   Jun  1854  28333       11       0      6   \n",
        "3           4  1854-07-01   Jul  1854  28722      359       0     23   \n",
        "4           5  1854-08-01   Aug  1854  30246      828       1     30   \n",
        "\n",
        "   Disease.rate  Wounds.rate  Other.rate  \n",
        "0           1.4          0.0         7.0  \n",
        "1           6.2          0.0         4.6  \n",
        "2           4.7          0.0         2.5  \n",
        "3         150.0          0.0         9.6  \n",
        "4         328.5          0.4        11.9  "
       ]
      }
     ],
     "prompt_number": 10
    },
    {
     "cell_type": "code",
     "collapsed": false,
     "input": [
      "df.Date = pd.to_datetime(df.Date)"
     ],
     "language": "python",
     "metadata": {},
     "outputs": [],
     "prompt_number": 14
    },
    {
     "cell_type": "code",
     "collapsed": false,
     "input": [
      "df.index = df.Date"
     ],
     "language": "python",
     "metadata": {},
     "outputs": [],
     "prompt_number": 15
    },
    {
     "cell_type": "code",
     "collapsed": false,
     "input": [
      "df = df.resample('M', 'mean')"
     ],
     "language": "python",
     "metadata": {},
     "outputs": [],
     "prompt_number": 35
    },
    {
     "cell_type": "code",
     "collapsed": false,
     "input": [
      "# Monthly Mean Number Of Diseased In The Army\n",
      "df['Disease'].plot(kind='line')"
     ],
     "language": "python",
     "metadata": {},
     "outputs": [
      {
       "metadata": {},
       "output_type": "pyout",
       "prompt_number": 37,
       "text": [
        "<matplotlib.axes._subplots.AxesSubplot at 0x10be1b5d0>"
       ]
      },
      {
       "metadata": {},
       "output_type": "display_data",
       "png": "[encoded data removed]",
       "text": [
        "<matplotlib.figure.Figure at 0x10afaaad0>"
       ]
      }
     ],
     "prompt_number": 37
    }
   ],
   "metadata": {}
  }
 ]
}