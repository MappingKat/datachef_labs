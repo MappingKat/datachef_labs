{
 "metadata": {
  "name": "",
  "signature": "sha256:ad81c900d5e3a9ed85528f0cd2321d7f3cf9620d7e815e7502a3905946faa9d9"
 },
 "nbformat": 3,
 "nbformat_minor": 0,
 "worksheets": [
  {
   "cells": [
    {
     "cell_type": "markdown",
     "metadata": {},
     "source": [
      "# Death Penalties Target Visualization Code"
     ]
    },
    {
     "cell_type": "code",
     "collapsed": false,
     "input": [
      "import pandas as pd\n",
      "import re\n",
      "from ggplot import *\n",
      "%matplotlib inline\n",
      "import numpy as np\n",
      "import string"
     ],
     "language": "python",
     "metadata": {},
     "outputs": [],
     "prompt_number": 1
    },
    {
     "cell_type": "code",
     "collapsed": false,
     "input": [
      "df = pd.read_csv('https://www.dropbox.com/s/nr5tom01x6ytuqi/EXECUTIONSBYCOUNTRY.csv?dl=1')"
     ],
     "language": "python",
     "metadata": {},
     "outputs": [],
     "prompt_number": 2
    },
    {
     "cell_type": "code",
     "collapsed": false,
     "input": [
      "df.columns"
     ],
     "language": "python",
     "metadata": {},
     "outputs": [
      {
       "metadata": {},
       "output_type": "pyout",
       "prompt_number": 3,
       "text": [
        "Index(['Country', 'Code', 'Executions, 2007', 'Death sentences 2007', 'Executions, 2008', 'Death sentences 2008', 'Executions, 2009', 'Death sentences 2009', 'Executions, 2010', 'Death sentences 2010', 'Executions, 2011', 'Death sentences 2011', 'Executions, 2012', 'Death sentences 2012', 'TOTAL EXECUTED, 2007-2012', 'TOTAL SENTENCED TO DEATH, 2007-2012'], dtype='object')"
       ]
      }
     ],
     "prompt_number": 3
    },
    {
     "cell_type": "code",
     "collapsed": false,
     "input": [
      "df.head()"
     ],
     "language": "python",
     "metadata": {},
     "outputs": [
      {
       "html": [
        "<div style=\"max-height:1000px;max-width:1500px;overflow:auto;\">\n",
        "<table border=\"1\" class=\"dataframe\">\n",
        "  <thead>\n",
        "    <tr style=\"text-align: right;\">\n",
        "      <th></th>\n",
        "      <th>Country</th>\n",
        "      <th>Code</th>\n",
        "      <th>Executions, 2007</th>\n",
        "      <th>Death sentences 2007</th>\n",
        "      <th>Executions, 2008</th>\n",
        "      <th>Death sentences 2008</th>\n",
        "      <th>Executions, 2009</th>\n",
        "      <th>Death sentences 2009</th>\n",
        "      <th>Executions, 2010</th>\n",
        "      <th>Death sentences 2010</th>\n",
        "      <th>Executions, 2011</th>\n",
        "      <th>Death sentences 2011</th>\n",
        "      <th>Executions, 2012</th>\n",
        "      <th>Death sentences 2012</th>\n",
        "      <th>TOTAL EXECUTED, 2007-2012</th>\n",
        "      <th>TOTAL SENTENCED TO DEATH, 2007-2012</th>\n",
        "    </tr>\n",
        "  </thead>\n",
        "  <tbody>\n",
        "    <tr>\n",
        "      <th>0</th>\n",
        "      <td> AFGHANISTAN</td>\n",
        "      <td> AF</td>\n",
        "      <td> 15</td>\n",
        "      <td>   0</td>\n",
        "      <td> 17</td>\n",
        "      <td> 131</td>\n",
        "      <td> 0</td>\n",
        "      <td> 133</td>\n",
        "      <td> NaN</td>\n",
        "      <td> 100</td>\n",
        "      <td>   2</td>\n",
        "      <td> NaN</td>\n",
        "      <td>  14</td>\n",
        "      <td> NaN</td>\n",
        "      <td> 34</td>\n",
        "      <td> 364</td>\n",
        "    </tr>\n",
        "    <tr>\n",
        "      <th>1</th>\n",
        "      <td>     ALGERIA</td>\n",
        "      <td> DZ</td>\n",
        "      <td>  0</td>\n",
        "      <td> 271</td>\n",
        "      <td>  0</td>\n",
        "      <td> 200</td>\n",
        "      <td> 0</td>\n",
        "      <td> 100</td>\n",
        "      <td> NaN</td>\n",
        "      <td> 130</td>\n",
        "      <td> NaN</td>\n",
        "      <td>  51</td>\n",
        "      <td> NaN</td>\n",
        "      <td> 153</td>\n",
        "      <td>  0</td>\n",
        "      <td> 752</td>\n",
        "    </tr>\n",
        "    <tr>\n",
        "      <th>2</th>\n",
        "      <td>     BAHAMAS</td>\n",
        "      <td> BS</td>\n",
        "      <td>  0</td>\n",
        "      <td> NaN</td>\n",
        "      <td>  0</td>\n",
        "      <td>   1</td>\n",
        "      <td> 0</td>\n",
        "      <td>   2</td>\n",
        "      <td> NaN</td>\n",
        "      <td>   5</td>\n",
        "      <td> NaN</td>\n",
        "      <td> NaN</td>\n",
        "      <td> NaN</td>\n",
        "      <td> NaN</td>\n",
        "      <td>  0</td>\n",
        "      <td>   8</td>\n",
        "    </tr>\n",
        "    <tr>\n",
        "      <th>3</th>\n",
        "      <td>     BAHRAIN</td>\n",
        "      <td> BH</td>\n",
        "      <td>  0</td>\n",
        "      <td>   2</td>\n",
        "      <td>  1</td>\n",
        "      <td>   0</td>\n",
        "      <td> 0</td>\n",
        "      <td>   0</td>\n",
        "      <td>   1</td>\n",
        "      <td>   1</td>\n",
        "      <td> NaN</td>\n",
        "      <td>   5</td>\n",
        "      <td> NaN</td>\n",
        "      <td>   1</td>\n",
        "      <td>  2</td>\n",
        "      <td>   8</td>\n",
        "    </tr>\n",
        "    <tr>\n",
        "      <th>4</th>\n",
        "      <td>  BANGLADESH</td>\n",
        "      <td> BD</td>\n",
        "      <td>  6</td>\n",
        "      <td>  93</td>\n",
        "      <td>  5</td>\n",
        "      <td> 185</td>\n",
        "      <td> 3</td>\n",
        "      <td>  64</td>\n",
        "      <td>   9</td>\n",
        "      <td>  32</td>\n",
        "      <td>   5</td>\n",
        "      <td>  49</td>\n",
        "      <td>   1</td>\n",
        "      <td>  45</td>\n",
        "      <td> 28</td>\n",
        "      <td> 423</td>\n",
        "    </tr>\n",
        "  </tbody>\n",
        "</table>\n",
        "</div>"
       ],
       "metadata": {},
       "output_type": "pyout",
       "prompt_number": 4,
       "text": [
        "       Country Code Executions, 2007 Death sentences 2007 Executions, 2008  \\\n",
        "0  AFGHANISTAN   AF               15                    0               17   \n",
        "1      ALGERIA   DZ                0                  271                0   \n",
        "2      BAHAMAS   BS                0                  NaN                0   \n",
        "3      BAHRAIN   BH                0                    2                1   \n",
        "4   BANGLADESH   BD                6                   93                5   \n",
        "\n",
        "  Death sentences 2008 Executions, 2009 Death sentences 2009 Executions, 2010  \\\n",
        "0                  131                0                  133              NaN   \n",
        "1                  200                0                  100              NaN   \n",
        "2                    1                0                    2              NaN   \n",
        "3                    0                0                    0                1   \n",
        "4                  185                3                   64                9   \n",
        "\n",
        "  Death sentences 2010 Executions, 2011 Death sentences 2011 Executions, 2012  \\\n",
        "0                  100                2                  NaN               14   \n",
        "1                  130              NaN                   51              NaN   \n",
        "2                    5              NaN                  NaN              NaN   \n",
        "3                    1              NaN                    5              NaN   \n",
        "4                   32                5                   49                1   \n",
        "\n",
        "  Death sentences 2012 TOTAL EXECUTED, 2007-2012  \\\n",
        "0                  NaN                        34   \n",
        "1                  153                         0   \n",
        "2                  NaN                         0   \n",
        "3                    1                         2   \n",
        "4                   45                        28   \n",
        "\n",
        "  TOTAL SENTENCED TO DEATH, 2007-2012  \n",
        "0                                 364  \n",
        "1                                 752  \n",
        "2                                   8  \n",
        "3                                   8  \n",
        "4                                 423  "
       ]
      }
     ],
     "prompt_number": 4
    },
    {
     "cell_type": "code",
     "collapsed": false,
     "input": [
      "df.index = df['Country']"
     ],
     "language": "python",
     "metadata": {},
     "outputs": [],
     "prompt_number": 5
    },
    {
     "cell_type": "code",
     "collapsed": false,
     "input": [
      "df['total'][:] = df['TOTAL EXECUTED, 2007-2012']"
     ],
     "language": "python",
     "metadata": {},
     "outputs": [],
     "prompt_number": 19
    },
    {
     "cell_type": "code",
     "collapsed": false,
     "input": [
      "df['total'].unique()"
     ],
     "language": "python",
     "metadata": {},
     "outputs": [
      {
       "metadata": {},
       "output_type": "pyout",
       "prompt_number": 25,
       "text": [
        "array(['THOUSANDS', '9', '8', '7', '6,221', '58', '5', '423', '4', '39',\n",
        "       '34', '33', '30', '28', '256', '23', '220', '2', '171', '152', '12',\n",
        "       '11', '105', '1,663', '1', '0', nan], dtype=object)"
       ]
      }
     ],
     "prompt_number": 25
    },
    {
     "cell_type": "code",
     "collapsed": false,
     "input": [
      "df['total'] = df['total'].replace('[,]', np.NaN,regex=True)\n",
      "df['total'] = df['total'].replace('[THOUSANDS]', np.NaN,regex=True)"
     ],
     "language": "python",
     "metadata": {},
     "outputs": [],
     "prompt_number": 28
    },
    {
     "cell_type": "code",
     "collapsed": false,
     "input": [
      "df['total'] = df['total'].astype('float')"
     ],
     "language": "python",
     "metadata": {},
     "outputs": [],
     "prompt_number": 29
    },
    {
     "cell_type": "code",
     "collapsed": false,
     "input": [
      "df = df.sort('total', ascending=False)"
     ],
     "language": "python",
     "metadata": {},
     "outputs": [],
     "prompt_number": 30
    },
    {
     "cell_type": "code",
     "collapsed": false,
     "input": [
      "# Countries that have executed the most people 2007 to 2012\n",
      "df['total'][0:25].plot(kind='bar')"
     ],
     "language": "python",
     "metadata": {},
     "outputs": [
      {
       "metadata": {},
       "output_type": "pyout",
       "prompt_number": 32,
       "text": [
        "<matplotlib.axes._subplots.AxesSubplot at 0x1031ab150>"
       ]
      },
      {
       "metadata": {},
       "output_type": "display_data",
       "png": "[encoded data removed]",
       "text": [
        "<matplotlib.figure.Figure at 0x10ab66e90>"
       ]
      }
     ],
     "prompt_number": 32
    },
    {
     "cell_type": "code",
     "collapsed": false,
     "input": [],
     "language": "python",
     "metadata": {},
     "outputs": []
    }
   ],
   "metadata": {}
  }
 ]
}