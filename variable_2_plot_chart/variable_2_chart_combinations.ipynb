{
 "metadata": {
  "name": "",
  "signature": "sha256:8acf9daa4ad8553aaec57591ac27d5293dc6827177c6960224982587f16adcd7"
 },
 "nbformat": 3,
 "nbformat_minor": 0,
 "worksheets": [
  {
   "cells": [
    {
     "cell_type": "code",
     "collapsed": false,
     "input": [
      "import itertools\n",
      "import pandas as pd"
     ],
     "language": "python",
     "metadata": {},
     "outputs": [],
     "prompt_number": 5
    },
    {
     "cell_type": "code",
     "collapsed": false,
     "input": [
      "stuff = [\"date\", \"int\", \"bool\", \"float\", \"category\", \"text\", \"id\", \"geo\", \"proportion\", \"contact\"]\n",
      "\n",
      "combinations = []\n",
      "\n",
      "for L in range(0, len(stuff)+1):\n",
      "  for subset in itertools.combinations(stuff, L):\n",
      "    if len(subset) < 4:\n",
      "        combinations.append(subset)"
     ],
     "language": "python",
     "metadata": {},
     "outputs": [],
     "prompt_number": 18
    },
    {
     "cell_type": "code",
     "collapsed": false,
     "input": [
      "df = pd.DataFrame(combinations)"
     ],
     "language": "python",
     "metadata": {},
     "outputs": [],
     "prompt_number": 20
    },
    {
     "cell_type": "code",
     "collapsed": false,
     "input": [
      "df.to_csv('var_combinations.csv')"
     ],
     "language": "python",
     "metadata": {},
     "outputs": [],
     "prompt_number": 21
    }
   ],
   "metadata": {}
  }
 ]
}